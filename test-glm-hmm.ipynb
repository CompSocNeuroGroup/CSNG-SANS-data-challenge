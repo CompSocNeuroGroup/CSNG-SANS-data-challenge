{
 "cells": [
  {
   "cell_type": "code",
   "execution_count": null,
   "metadata": {},
   "outputs": [],
   "source": "#!/usr/bin/env python2\n\"\"\"\nCreated on Thu Mar 31 11:19:36 2022\n@author: jthompsz\nConverted to .ipynb by LSS\n\"\"\""
  },
  {
   "cell_type": "markdown",
   "metadata": {},
   "source": "##### COMMENTS"
  },
  {
   "cell_type": "code",
   "execution_count": null,
   "metadata": {},
   "outputs": [],
   "source": "import sys\n\n\nfrom collections import OrderedDict\nimport warnings\nfrom copy import deepcopy\nimport glob\nimport os\nimport re\nimport json\nimport csv\nimport seaborn as sns\nimport matplotlib.pyplot as plt\nimport matplotlib\nimport matplotlib.patches as patches\n\nfrom tqdm import tqdm\n\nimport numpy as np\nimport pandas as pd\n\nimport nibabel as nib\nimport nilearn as ni\nfrom nilearn.input_data import NiftiLabelsMasker\nfrom nilearn.input_data import NiftiMasker\nfrom nilearn import image\nfrom nilearn import plotting\n\nfrom hmmlearn import hmm\nfrom sklearn.decomposition import PCA\nfrom scipy.stats import zscore\n\nimport autograd.numpy as np\nimport autograd.numpy.random as npr\nnpr.seed(0)\n\nimport ssm\nfrom ssm.util import find_permutation\nfrom ssm.plots import gradient_cmap, white_to_color_cmap"
  },
  {
   "cell_type": "markdown",
   "metadata": {},
   "source": "##### COMMENTS"
  },
  {
   "cell_type": "code",
   "execution_count": null,
   "metadata": {},
   "outputs": [],
   "source": "color_names = [\n    \"windows blue\",\n    \"red\",\n    \"amber\",\n    \"faded green\",\n    \"dusty purple\",\n    \"orange\"\n    ]\n\ncolors = sns.xkcd_palette(color_names)\ncmap = gradient_cmap(colors)\n\nbase_dir = '/mnt/EE9A47C59A478953/data/FNL'\nout_dir = '/mnt/EE9A47C59A478953/data/FNL/output'\nfunc_data = '/ds003521/derivatives/denoised/smoothed'\n\n\nos.chdir(f'{base_dir}')"
  },
  {
   "cell_type": "markdown",
   "metadata": {},
   "source": "##### COMMENTS"
  },
  {
   "cell_type": "code",
   "execution_count": null,
   "metadata": {},
   "outputs": [],
   "source": "# load in target ROI\ntarget_roi = image.load_img(f'{base_dir}/ROIs/vmpfc-chang.nii.gz')\nplotting.plot_roi(target_roi)\n\n# load source ROIs\natlas = image.load_img(f'{base_dir}/ROIs/source_rois.nii.gz')\n\n# load in some data\nsdata = image.load_img(f'{base_dir}/{func_data}/sub-sid000216_task-movie_run-1_space-MNI152NLin2009cAsym_desc-preproc_trim_smooth6_denoised_bold.nii.gz')\n"
  },
  {
   "cell_type": "markdown",
   "metadata": {},
   "source": "#### MORE COMMENTS"
  },
  {
   "cell_type": "code",
   "execution_count": null,
   "metadata": {},
   "outputs": [],
   "source": "# extract target data from roi\ntarget_masker = NiftiMasker(mask_img=target_roi, standardize=False)\ntarget_time_series = target_masker.fit_transform(sdata)\n\ntarget_data = pd.DataFrame(target_time_series)\n\n\n# extract source data from rois\nmasker = NiftiLabelsMasker(labels_img=atlas, standardize=False)\nsource_time_series = masker.fit_transform(sdata)\n\nplt.figure(figsize=(10,3))\nplt.plot(source_time_series)\nplt.show()"
  },
  {
   "cell_type": "markdown",
   "metadata": {},
   "source": "#####           HMM AS IN CHANG ET AL. (2019)        ####\n####                                                                      ###"
  },
  {
   "cell_type": "markdown",
   "metadata": {},
   "source": "#### MORE COMMENTS"
  },
  {
   "cell_type": "code",
   "execution_count": null,
   "metadata": {},
   "outputs": [],
   "source": "# Reduce Data Dimensionality\ntarget_var = 0.9\npca = PCA(n_components=target_var)\nreduced = pca.fit_transform(zscore(target_data))\n\n# Run HMM\nk=4\nm1 = hmm.GaussianHMM(n_components=4, covariance_type=\"diag\", algorithm='map', n_iter=500)\nm1.fit(reduced)"
  },
  {
   "cell_type": "markdown",
   "metadata": {},
   "source": "#### MORE COMMENTS"
  },
  {
   "cell_type": "code",
   "execution_count": null,
   "metadata": {},
   "outputs": [],
   "source": "# Get HMM Weights\nw = pd.DataFrame(pca.inverse_transform(m1.means_))\nw.round(decimals=4).to_csv(os.path.join(out_dir, f'HMMWeights.vmpfc.k4.csv'))"
  },
  {
   "cell_type": "markdown",
   "metadata": {},
   "source": "#### MORE COMMENTS"
  },
  {
   "cell_type": "code",
   "execution_count": null,
   "metadata": {},
   "outputs": [],
   "source": "# Write out HMM Covariance\nfor i,x in enumerate(m1.covars_):\n    pd.DataFrame(x).to_csv(os.path.join(out_dir, f'HMMCovariates.vmpfc.k4.csv'))"
  },
  {
   "cell_type": "markdown",
   "metadata": {},
   "source": "#### MORE COMMENTS"
  },
  {
   "cell_type": "code",
   "execution_count": null,
   "metadata": {},
   "outputs": [],
   "source": "    \n# Write out Transition matrix\ntransmat = pd.DataFrame(m1.transmat_)\ntransmat.to_csv(os.path.join(out_dir,f'HMMTransitionMatrix.vmpfc.k4.csv'))"
  },
  {
   "cell_type": "markdown",
   "metadata": {},
   "source": "#### MORE COMMENTS"
  },
  {
   "cell_type": "code",
   "execution_count": null,
   "metadata": {},
   "outputs": [],
   "source": "# Write out predicted states\npred = {}\np = m1.decode(reduced, algorithm='viterbi')\npred['Viterbi'] = p[1]\npred['MAP'] = m1.decode(reduced, algorithm='map')[1]\npred_prob = m1.predict_proba(reduced)\nfor i in range(k):\n        pred[f'Probability_{i}'] = pred_prob[:,i]\n        proj = np.dot(reduced, m1.means_.T)\n        for i in range(k):\n            pred[f'Projected_{i}'] = proj[:,i]\n            pred = pd.DataFrame(pred)\n            pred['ModelFit'] = m1.score(reduced)\n            #pred['Subject'] = sub\n            #pred['Study'] = study\n            pred['PCA_Components'] = reduced.shape[1]\n            pred.to_csv(os.path.join(out_dir,f'HMMPredictedStates.vmpfc.k{k}.csv'))"
  },
  {
   "cell_type": "markdown",
   "metadata": {},
   "source": "#### MORE COMMENTS"
  },
  {
   "cell_type": "code",
   "execution_count": null,
   "metadata": {},
   "outputs": [],
   "source": "#plt.figure(figsize=(10,3))\n#plt.plot(pred[['Probability_0','Probability_1','Probability_2','Probability_3' ]])\n#plt.show()"
  },
  {
   "cell_type": "markdown",
   "metadata": {},
   "source": "#### MORE COMMENTS"
  },
  {
   "cell_type": "code",
   "execution_count": null,
   "metadata": {},
   "outputs": [],
   "source": "# read in HMM data\n\np = pd.read_csv(os.path.join(out_dir, f'HMMPredictedStates.vmpfc.k{k}.csv'), index_col=0)"
  },
  {
   "cell_type": "markdown",
   "metadata": {},
   "source": "####                                                    #### \n####             HMM as in SSM            ####\n####                                                    ####"
  },
  {
   "cell_type": "markdown",
   "metadata": {},
   "source": "#### COMMENTS GALORE"
  },
  {
   "cell_type": "code",
   "execution_count": null,
   "metadata": {},
   "outputs": [],
   "source": "N_iters = 500\n\n## testing the constrained transitions class\nhmm = ssm.HMM(k, 70, observations=\"diagonal_gaussian\")\n\nhmm_lls = hmm.fit(reduced, method=\"em\", num_iters=N_iters, init_method=\"kmeans\")\n\nhmm_z = hmm.most_likely_states(reduced)\n\nssm = pd.DataFrame()\nssm['zPredicted States'] = hmm_z\n\nssm.to_csv(os.path.join(out_dir,f'SSM-HMMPredictedStates.vmpfc.k{k}.csv'))\n\n# align states\n#viterbi 2 = 1\n#viterbi 0 = 3\n#viterbi 3 = 0\n#viterbi 1 = 2"
  },
  {
   "cell_type": "markdown",
   "metadata": {},
   "source": "##### SO MANY COMMENTS"
  },
  {
   "cell_type": "code",
   "execution_count": null,
   "metadata": {},
   "outputs": [],
   "source": "fig = plt.figure(figsize=(8, 4))\nplt.subplot(211)\nplt.imshow(hmm_z[None,:], aspect=\"auto\", cmap=cmap, vmin=0, vmax=len(colors)-1)\nplt.ylabel(\"SSM - $z_{\\\\mathrm{inferred}}$\")\nplt.yticks([])\nplt.xlabel(\"time\")\n\nplt.subplot(212)\nplt.imshow([p['Viterbi']], aspect=\"auto\", cmap=cmap, vmin=0, vmax=len(colors)-1)\nplt.ylabel(\"HMM - Viterbi\")\nplt.yticks([])\nplt.xlabel(\"time\")\n\nfig.savefig('most_likely_states.png', dpi=300)"
  }
 ],
 "metadata": {
  "kernelspec": {
   "display_name": "Python 2",
   "language": "python",
   "name": "python2"
  },
  "language_info": {
   "codemirror_mode": {
    "name": "ipython",
    "version": 2
   },
   "file_extension": ".py",
   "mimetype": "text/x-python",
   "name": "python",
   "nbconvert_exporter": "python",
   "pygments_lexer": "ipython2",
   "version": "2.7.17"
  }
 },
 "nbformat": 4,
 "nbformat_minor": 2
}
